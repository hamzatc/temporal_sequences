{
 "cells": [
  {
   "cell_type": "markdown",
   "id": "a8ca23d3",
   "metadata": {},
   "source": [
    "# Summary\n",
    "These are the input values to each neuron during an update step. Taking the sign of $h_i(t)$ gives us the next value of that neuron, $S_i(t+1) = \\text{sgn}(h_i(t))$.\n",
    "\n",
    "## Hopfield Network\n",
    "\n",
    "#### Weight Matrix:\n",
    "$$ w_{ij} = \\sum_{\\mu=1}^P \\xi_i^\\mu \\xi_j^\\mu $$\n",
    "\n",
    "#### Update Rule:\n",
    "\\begin{align*}\n",
    "    h_i(t) = \\sum_{j=1}^N w_{ij}S_j(t) = \\sum_{\\mu=1}^P \\xi_i^\\mu \\left( \\sum_{j = 1}^N \\xi_j^\\mu S_j(t) \\right) = \\sum_{\\mu=1}^P \\xi_i^\\mu m^\\mu(t)\n",
    "\\end{align*} \n",
    "\n",
    "#### Interaction Functions:\n",
    "Note, that we omit the normalization factors $\\frac{1}{N}$ since we only care about sign and omit the self-coupling terms by setting $w_{ii} = \\sum_{\\mu=1}^P \\xi_i^\\mu \\xi_i^\\mu = 0$ .\n",
    "\n",
    "\\begin{align*}\n",
    "    q^\\mu(t) &= \\sum_{j \\neq i}^N \\xi_j^\\mu S_j(t)\n",
    "\\end{align*} \n",
    "\n",
    "## Polynomial Interaction Function ([Krotov, Hopfield](https://arxiv.org/pdf/1606.01164.pdf))\n",
    "#### Update Rule:\n",
    "\\begin{align*}\n",
    "    h_i(t) &= \\sum_{\\mu=1}^P \\left[ \\left( \\xi_i^\\mu + \\sum_{j \\neq i} \\xi_j^\\mu S_j(t) \\right)^n - \\left( -\\xi_i^\\mu + \\sum_{j \\neq i} \\xi_j^\\mu S_j(t) \\right)^n \\right] \\\\\n",
    "    &= \\sum_{\\mu=1}^P \\left[ \\left( \\sum_{m=0}^n {n \\choose m} (\\xi_i^\\mu)^m (\\sum_{j \\neq i} \\xi_j^\\mu S_j(t))^{n-m} \\right) - \\left( \\sum_{m=0}^n {n \\choose m} (- \\xi_i^\\mu)^m (\\sum_{j \\neq i} \\xi_j^\\mu S_j(t))^{n-m} \\right) \\right] \\\\\n",
    "    &= \\sum_{\\mu=1}^P \\left[ \\left( 1 - (-1)^m \\right) \\left( \\sum_{m=0}^n {n \\choose m} (\\xi_i^\\mu)^m (\\sum_{j \\neq i} \\xi_j^\\mu S_j(t))^{n-m} \\right) \\right] \\\\\n",
    "    &= 2 \\sum_{\\mu=1}^P \\xi_i^\\mu \\left[\\sum_{m \\ \\textrm{odd}} {n \\choose m} \\left( \\sum_{j \\neq i} \\xi_j^\\mu S_j(t) \\right)^{n-m} \\right] \\\\\n",
    "    &= 2 \\sum_{\\mu=1}^P \\xi_i^\\mu \\left[\\sum_{m \\ \\textrm{odd}} {n \\choose m} \\left( q^\\mu(t) \\right)^{n-m} \\right] \n",
    "\\end{align*} \n",
    "\n",
    "#### Examples:\n",
    "\\begin{align*}\n",
    "    n=3 &\\implies h_i(t) = 2 \\sum_{\\mu=1}^P \\xi_i^\\mu \\left[3 \\left( \\sum_{j \\neq i} \\xi_j^\\mu S_j(t) \\right)^2 + 1 \\right] \\\\\n",
    "    n=4 &\\implies h_i(t) = 2 \\sum_{\\mu=1}^P \\xi_i^\\mu \\left[4 \\left( \\sum_{j \\neq i} \\xi_j^\\mu S_j(t) \\right)^3 + 4 \\left( \\sum_{j \\neq i} \\xi_j^\\mu S_j(t) \\right) \\right] \\\\\n",
    "    n=5 &\\implies h_i(t) = 2 \\sum_{\\mu=1}^P \\xi_i^\\mu \\left[5 \\left( \\sum_{j \\neq i} \\xi_j^\\mu S_j(t) \\right)^4 + 10 \\left( \\sum_{j \\neq i} \\xi_j^\\mu S_j(t) \\right)^2 + 1 \\right] \\\\\n",
    "    n=6 &\\implies h_i(t) = 2 \\sum_{\\mu=1}^P \\xi_i^\\mu \\left[6 \\left( \\sum_{j \\neq i} \\xi_j^\\mu S_j(t) \\right)^5 + 20 \\left( \\sum_{j \\neq i} \\xi_j^\\mu S_j(t) \\right)^3 + 6 \\left( \\sum_{j \\neq i} \\xi_j^\\mu S_j(t) \\right) \\right]    \n",
    "\\end{align*} \n",
    "\n",
    "## Exponential Interaction Function ([Demircigil et al.](https://arxiv.org/pdf/1702.01929.pdf))\n",
    "#### Update Rule:\n",
    "\\begin{align*}\n",
    "    h_i(t) &= \\sum_{\\mu=1}^P \\left[ \\exp \\left( \\xi_i^\\mu + \\sum_{j \\neq i} \\xi_j^\\mu S_j(t) \\right) - \\exp \\left( -\\xi_i^\\mu + \\sum_{j \\neq i} \\xi_j^\\mu S_j(t) \\right) \\right]\n",
    "\\end{align*}\n",
    "\n",
    "\n",
    "## Asymmetric Hopfield Network ([Sompolinksy, Kanter](https://journals.aps.org/prl/abstract/10.1103/PhysRevLett.57.2861))\n",
    "#### Update Rule:\n",
    "\\begin{align*}\n",
    "    h_i(t) &= \\sum_{\\mu=1}^P \\left[\\xi_i^\\mu \\left( \\sum_{j = 1}^N \\xi_j^\\mu S_j(t) \\right) + \\lambda \\xi_i^{\\mu+1} \\left( \\sum_{j = 1}^N \\xi_j^\\mu \\bar{S_j}(t) \\right) \\right] \\\\\n",
    "    h_i(t) &= \\sum_{\\mu=1}^P \\left[\\xi_i^\\mu q^\\mu(t) + \\lambda \\xi_i^{\\mu+1} \\bar{q}^\\mu(t) \\right]\n",
    "\\end{align*} \n",
    "\n",
    "#### Discrete Convolution:\n",
    "\\begin{align*}\n",
    "    \\bar{S}_j(t) &= \\sum_{k=0}^t G(t-k)S_j(k) \\quad , \\quad G(t) = \\frac{\\Theta(\\tau - t)}{t}\n",
    "\\end{align*}\n",
    "\n",
    "Note that G(t) sums to 1.\n",
    "\n",
    "## Asymmetric Dense Associative Memory Network (Proposed Rules)\n",
    "#### Rule 1\n",
    "\\begin{align*}\n",
    "    h_i(t) &= \\sum_{\\mu=1}^P \\left[ \\xi_i^\\mu \\left(\\sum_{j = 1}^N \\xi_j^\\mu S_j(t) \\right)^{n-1} + \\lambda \\xi_i^{\\mu+1} \\left(\\sum_{j = 1}^N \\xi_j^\\mu \\bar{S_j}(t) \\right)^{n-1} \\right]\n",
    "\\end{align*} \n",
    "\n",
    "\\begin{align*}\n",
    "    n=3 &\\implies h_i(t) = \\sum_{\\mu=1}^P \\left[ \\xi_i^\\mu \\left(\\sum_{j,k} \\xi_j^\\mu \\xi_k^\\mu S_j(t) S_k(t) \\right) + \\lambda \\xi_i^{\\mu+1} \\left(\\sum_{j,k} \\xi_j^\\mu \\xi_k^\\mu \\bar{S_j}(t) \\bar{S_k}(t) \\right) \\right] \\\\\n",
    "    n=4 &\\implies h_i(t) = \\sum_{\\mu=1}^P \\left[ \\xi_i^\\mu \\left(\\sum_{j,k,l} \\xi_j^\\mu \\xi_k^\\mu \\xi_l^\\mu S_j(t) S_k(t) S_l(t) \\right) + \\lambda \\xi_i^{\\mu+1} \\left(\\sum_{j,k,l} \\xi_j^\\mu \\xi_k^\\mu \\xi_l^\\mu \\bar{S_j}(t) \\bar{S_k}(t) \\bar{S_l}(t) \\right) \\right]\n",
    "\\end{align*} \n",
    "\n",
    "\n",
    "#### Proposed Rule 2\n",
    "This comes from adding the term to the energy function and has multiple powers for the interaction term. \n",
    "\\begin{align*}\n",
    "    h_i(t) &= \\sum_{\\mu=1}^P \\left[ \\left( \\xi_i^\\mu + q^\\mu(t) \\right)^n + \\lambda \\xi^{\\mu+1}_i \\left( \\frac{\\xi^\\mu_i}{\\tau} + \\xi^\\mu_i \\bar{S}_i(t-1) + \\bar{q}^\\mu(t) \\right)^n - \\left( - \\xi_i^\\mu + q^\\mu(t) \\right)^n - \\lambda \\xi^{\\mu+1}_i \\left( -\\frac{\\xi^\\mu_i}{\\tau} + \\xi^\\mu_i \\bar{S}_i(t-1) + \\bar{q}^\\mu(t) \\right)^n \\right] \\\\\n",
    "    &= 2 \\sum_{\\mu=1}^P \\xi_i^\\mu \\left[\\sum_{m \\textrm{ odd}} {n \\choose m} \\left[ \\left( q^\\mu(t) \\right)^{n-m} + \\left(\\frac{\\lambda \\xi^{\\mu+1}_i}{\\tau^m}\\right) \\left( \\xi^\\mu_i \\bar{S}_i(t-1) + \\bar{q}^\\mu(t) \\right)^{n-m} \\right] \\right] \n",
    "\\end{align*} "
   ]
  },
  {
   "cell_type": "markdown",
   "id": "66ebe7ae",
   "metadata": {},
   "source": []
  },
  {
   "cell_type": "code",
   "execution_count": 6,
   "id": "af5d65f0",
   "metadata": {},
   "outputs": [],
   "source": [
    "# Import Packages\n",
    "import numpy as np\n",
    "np.random.seed(1)\n",
    "\n",
    "from matplotlib import pyplot as plt\n",
    "import matplotlib.cm as cm\n",
    "from tqdm import tqdm\n",
    "import skimage.data\n",
    "from skimage.color import rgb2gray\n",
    "from skimage.filters import threshold_mean\n",
    "from skimage.transform import resize"
   ]
  },
  {
   "cell_type": "code",
   "execution_count": 7,
   "id": "65b9c024",
   "metadata": {},
   "outputs": [],
   "source": [
    "# Data Preprocessing\n",
    "def generate_patterns(num_neuron = 16, num_pattern = 2):\n",
    "    patterns = np.random.binomial(1, 0.5, (num_pattern, num_neuron))\n",
    "    np.place(patterns, patterns == 0, -1)\n",
    "    return patterns\n",
    "\n",
    "def corrupt_pattern(pattern, corruption_level):\n",
    "    corrupted_pattern = np.copy(pattern)\n",
    "    inv = np.random.binomial(n=1, p=corruption_level, size=len(pattern))\n",
    "    for i, v in enumerate(pattern):\n",
    "        if inv[i]:\n",
    "            corrupted_pattern[i] = -1 * v\n",
    "    return corrupted_pattern\n",
    "\n",
    "def flip_bit(pattern):\n",
    "    idx = np.random.randint(0, len(pattern)) \n",
    "    flipped_pattern = np.copy(pattern)\n",
    "    flipped_pattern[idx] = -pattern[idx]\n",
    "    return flipped_pattern \n",
    "\n",
    "def plot(data, test, predicted, figsize=(8, 12)):\n",
    "    fig, axarr = plt.subplots(1,3, figsize=figsize)\n",
    "\n",
    "    axarr[0].set_title('Original vs Original')\n",
    "    axarr[0].imshow(data @ data.T, cmap=cm.gray_r)    \n",
    "    axarr[1].set_title(\"Original vs Corrupted\")\n",
    "    axarr[1].imshow(data @ test.T, cmap=cm.gray_r)\n",
    "    axarr[2].set_title(\"Original vs Reconstructed\")\n",
    "    axarr[2].imshow(data @ predicted.T, cmap=cm.gray_r)\n",
    "    plt.savefig(\"result.png\")\n",
    "    plt.show()    "
   ]
  },
  {
   "cell_type": "code",
   "execution_count": 8,
   "id": "6fe8ac17",
   "metadata": {},
   "outputs": [],
   "source": [
    "# Standard Hopfield Network\n",
    "class HopfieldNetwork(object):      \n",
    "    def train_weights(self, train_data):\n",
    "#         print(\"Start to train weights...\")\n",
    "        num_pattern =  train_data.shape[0]\n",
    "        self.num_neuron = train_data.shape[1]\n",
    "        \n",
    "        # initialize weights\n",
    "        W = np.zeros((self.num_neuron, self.num_neuron))\n",
    "        \n",
    "        # Hebb rule\n",
    "        for i in tqdm(range(num_pattern)):\n",
    "            t = train_data[i]\n",
    "            W += np.outer(t, t)\n",
    "        \n",
    "        # Make diagonal element of W into 0\n",
    "        diagW = np.diag(np.diag(W))\n",
    "        W = W - diagW\n",
    "        W /= num_pattern\n",
    "        \n",
    "        self.W = W \n",
    "    \n",
    "    def predict(self, data, num_iter=1):\n",
    "#         print(\"Start to predict...\")\n",
    "        self.num_iter = num_iter\n",
    "        \n",
    "        # Copy to avoid call by reference \n",
    "        copied_data = np.copy(data)\n",
    "        \n",
    "        # Define predict list\n",
    "        predicted = []\n",
    "        for i in tqdm(range(len(data))):\n",
    "            predicted.append(self._run(copied_data[i]))\n",
    "        return np.array(predicted)\n",
    "    \n",
    "    def _run(self, init_s):\n",
    "        \"\"\"\n",
    "        Asynchronous update\n",
    "        \"\"\"\n",
    "        # Compute initial state energy\n",
    "        s = init_s\n",
    "        e = self.energy(s)\n",
    "\n",
    "        # Iteration\n",
    "        for i in range(self.num_iter):\n",
    "            for j in range(100):\n",
    "                # Select random neuron\n",
    "                idx = np.random.randint(0, self.num_neuron) \n",
    "                # Update s\n",
    "                s[idx] = np.sign(self.W[idx].T @ s)\n",
    "\n",
    "            # Compute new state energy\n",
    "            e_new = self.energy(s)\n",
    "\n",
    "            # s is converged\n",
    "            if e == e_new:\n",
    "                return s\n",
    "            # Update energy\n",
    "            e = e_new\n",
    "        return s\n",
    "    \n",
    "    \n",
    "    def energy(self, s):\n",
    "        return -0.5 * s @ self.W @ s\n",
    "\n",
    "    def plot_weights(self):\n",
    "        plt.figure(figsize=(6, 5))\n",
    "        w_mat = plt.imshow(self.W, cmap=cm.gray_r)\n",
    "        plt.colorbar(w_mat)\n",
    "        plt.title(\"Network Weights\")\n",
    "        plt.tight_layout()\n",
    "        plt.savefig(\"weights.png\")\n",
    "        plt.show()"
   ]
  },
  {
   "cell_type": "code",
   "execution_count": 9,
   "id": "631dbb49",
   "metadata": {},
   "outputs": [],
   "source": [
    "# Modified Hopfield Memory Network\n",
    "class ModifiedHopfieldNetwork(object):      \n",
    "    def train_weights(self, patterns, n = 3):\n",
    "#         print(\"Start to train weights...\")\n",
    "        self.patterns = patterns\n",
    "        self.n = n\n",
    "        self.num_pattern =  patterns.shape[0]\n",
    "        self.num_neuron = patterns.shape[1]\n",
    "            \n",
    "    def predict(self, data, num_iter=1):\n",
    "        self.num_iter = num_iter\n",
    "        \n",
    "        # Copy to avoid call by reference \n",
    "        copied_data = np.copy(data)\n",
    "        \n",
    "        # Define predict list\n",
    "        predicted = []\n",
    "        for i in tqdm(range(len(data))):\n",
    "            predicted.append(self._run(copied_data[i]))\n",
    "        return np.array(predicted)\n",
    "    \n",
    "    def _run(self, init_s):\n",
    "        \"\"\"\n",
    "        Asynchronous update\n",
    "        \"\"\"\n",
    "        # Compute initial state energy\n",
    "        s = init_s\n",
    "        e = self.energy(s)\n",
    "\n",
    "        # Iteration\n",
    "        for idx in range(self.num_iter):\n",
    "            for i in range(self.num_neuron):\n",
    "                h_i = 0\n",
    "                for p in range(self.num_pattern):\n",
    "                    # Calculate input for for each pattern and sum over each.\n",
    "                    h_i += self.patterns[p,i] * (np.dot(self.patterns[p],s) - self.patterns[p,i]*s[i])**(self.n-1)\n",
    "                s[i] = np.sign(h_i)\n",
    "\n",
    "            # Compute new state energy\n",
    "            e_new = self.energy(s)\n",
    "\n",
    "            # s is converged\n",
    "            if e == e_new:\n",
    "                return s\n",
    "            # Update energy\n",
    "            e = e_new\n",
    "        return s\n",
    "    \n",
    "    def energy(self, s):\n",
    "        e = 0 \n",
    "        for p in range(self.num_pattern):\n",
    "            for i in range(self.num_neuron):\n",
    "                alignment = - self.patterns[p,i] * s[i]\n",
    "            e += alignment**self.n\n",
    "        return e"
   ]
  },
  {
   "cell_type": "code",
   "execution_count": 10,
   "id": "a8ed50ba",
   "metadata": {},
   "outputs": [],
   "source": [
    "# Dense Associative Memory Network\n",
    "class Dense_Network(object):      \n",
    "    def train_weights(self, patterns, n = 3):\n",
    "        print(\"Start to train weights...\")\n",
    "        self.patterns = patterns\n",
    "        self.n = n\n",
    "        self.num_pattern =  patterns.shape[0]\n",
    "        self.num_neuron = patterns.shape[1]\n",
    "        \n",
    "#         # initialize weights\n",
    "#         W = np.zeros((self.num_neuron, self.num_neuron, self.num_neuron))\n",
    "\n",
    "#         # Hebb rule\n",
    "#         W = np.einsum(patterns, [0,1], patterns, [0,2], patterns, [0,3], [1,2,3])\n",
    "            \n",
    "#         # Make diagonal element of W into 0\n",
    "#         diagW = np.einsum(W, [0,0,1], [0,1])\n",
    "#         W = W - diagW\n",
    "        \n",
    "#         self.W = W \n",
    "    \n",
    "    def predict(self, data, num_iter=10):\n",
    "        self.num_iter = num_iter\n",
    "        \n",
    "        # Copy to avoid call by reference \n",
    "        copied_data = np.copy(data)\n",
    "        \n",
    "        # Define predict list\n",
    "        predicted = []\n",
    "        for i in tqdm(range(len(data))):\n",
    "            predicted.append(self._run(copied_data[i]))\n",
    "        return np.array(predicted)\n",
    "    \n",
    "    def _run(self, init_s):\n",
    "        \"\"\"\n",
    "        Asynchronous update\n",
    "        \"\"\"\n",
    "        # Compute initial state energy\n",
    "        s = init_s\n",
    "        e = self.energy(s)\n",
    "\n",
    "        # Iteration\n",
    "        for idx in range(self.num_iter):\n",
    "            for i in range(self.num_neuron):\n",
    "                h_i = 0\n",
    "                for p in range(self.num_pattern):\n",
    "                    # Update s\n",
    "                    h_on = (self.patterns[p,i] + (np.dot(self.patterns[p],s) - self.patterns[p,i]*s[i]))**self.n\n",
    "                    h_off = (-self.patterns[p,i] + (np.dot(self.patterns[p],s) - self.patterns[p,i]*s[i]))**self.n\n",
    "                    h_i += (h_on - h_off)\n",
    "                s[i] = np.sign(h_i)\n",
    "\n",
    "            # Compute new state energy\n",
    "            e_new = self.energy(s)\n",
    "\n",
    "            # s is converged\n",
    "            if e == e_new:\n",
    "                return s\n",
    "            # Update energy\n",
    "            e = e_new\n",
    "        return s\n",
    "    \n",
    "    def energy(self, s):\n",
    "        e = 0 \n",
    "        for p in range(self.num_pattern):\n",
    "            for i in range(self.num_neuron):\n",
    "                alignment = self.patterns[p,i] * s[i]\n",
    "            e -= alignment**self.n\n",
    "        return e\n",
    "            \n",
    "    def plot_weights(self):\n",
    "        plt.figure(figsize=(6, 5))\n",
    "        w_mat = plt.imshow(self.W, cmap=cm.gray_r)\n",
    "        plt.colorbar(w_mat)\n",
    "        plt.title(\"Network Weights\")\n",
    "        plt.tight_layout()\n",
    "        plt.savefig(\"weights.png\")\n",
    "        plt.show()"
   ]
  },
  {
   "cell_type": "code",
   "execution_count": 11,
   "id": "397e3086",
   "metadata": {},
   "outputs": [
    {
     "name": "stderr",
     "output_type": "stream",
     "text": [
      "100%|██████████| 20/20 [00:00<00:00, 350.94it/s]\n",
      "100%|██████████| 20/20 [00:00<00:00, 700.84it/s]\n",
      "  0%|          | 0/20 [00:00<?, ?it/s]<ipython-input-9-cdbb0f51e148>:36: RuntimeWarning: overflow encountered in long_scalars\n",
      "  h_i += self.patterns[p,i] * (np.dot(self.patterns[p],s) - self.patterns[p,i]*s[i])**(self.n-1)\n"
     ]
    },
    {
     "name": "stdout",
     "output_type": "stream",
     "text": [
      "Start to train weights...\n"
     ]
    },
    {
     "name": "stderr",
     "output_type": "stream",
     "text": [
      "100%|██████████| 20/20 [00:01<00:00, 14.67it/s]\n",
      "  0%|          | 0/20 [00:00<?, ?it/s]<ipython-input-10-3c50deb39e3f>:50: RuntimeWarning: overflow encountered in long_scalars\n",
      "  h_i += (h_on - h_off)\n",
      "100%|██████████| 20/20 [00:02<00:00,  8.43it/s]\n"
     ]
    },
    {
     "name": "stdout",
     "output_type": "stream",
     "text": [
      "Hopfield\n"
     ]
    },
    {
     "data": {
      "image/png": "[encoded data removed]",
      "text/plain": [
       "<Figure size 576x864 with 3 Axes>"
      ]
     },
     "metadata": {
      "needs_background": "light"
     },
     "output_type": "display_data"
    },
    {
     "name": "stdout",
     "output_type": "stream",
     "text": [
      "Modified Hopfield, d = 12\n"
     ]
    },
    {
     "data": {
      "image/png": "[encoded data removed]",
      "text/plain": [
       "<Figure size 576x864 with 3 Axes>"
      ]
     },
     "metadata": {
      "needs_background": "light"
     },
     "output_type": "display_data"
    },
    {
     "name": "stdout",
     "output_type": "stream",
     "text": [
      "Dense Associative Memory Network, d = 12\n"
     ]
    },
    {
     "data": {
      "image/png": "[encoded data removed]",
      "text/plain": [
       "<Figure size 576x864 with 3 Axes>"
      ]
     },
     "metadata": {
      "needs_background": "light"
     },
     "output_type": "display_data"
    }
   ],
   "source": [
    "# Generate Patterns\n",
    "patterns = generate_patterns(num_neuron = 1000, num_pattern = 20)\n",
    "degree = 12\n",
    "\n",
    "# Generate Corrupted Patterns\n",
    "flipped_patterns = np.array([flip_bit(p) for p in patterns])\n",
    "corrupted_patterns = np.array([corrupt_pattern(p, 0.2) for p in patterns])\n",
    "\n",
    "# Create Hopfield Network Model\n",
    "hopfield_model = HopfieldNetwork()\n",
    "hopfield_model.train_weights(patterns)\n",
    "modified_hopfield_model = ModifiedHopfieldNetwork()\n",
    "modified_hopfield_model.train_weights(patterns, n=degree)\n",
    "damn_model = Dense_Network()\n",
    "damn_model.train_weights(patterns, n=degree)\n",
    "\n",
    "# Try to Reconstruct Original Patterns\n",
    "h_reconstructed_patterns = np.array(hopfield_model.predict(corrupted_patterns))\n",
    "mh_reconstructed_patterns = np.array(modified_hopfield_model.predict(corrupted_patterns))\n",
    "damn_reconstructed_patterns = np.array(damn_model.predict(corrupted_patterns))\n",
    "\n",
    "# Plot Values\n",
    "print(\"Hopfield\")\n",
    "plot(patterns, corrupted_patterns, h_reconstructed_patterns)\n",
    "print(f\"Modified Hopfield, d = {degree}\")\n",
    "plot(patterns, corrupted_patterns, mh_reconstructed_patterns)\n",
    "print(f\"Dense Associative Memory Network, d = {degree}\")\n",
    "plot(patterns, corrupted_patterns, damn_reconstructed_patterns)"
   ]
  },
  {
   "cell_type": "code",
   "execution_count": null,
   "id": "d873fa05",
   "metadata": {},
   "outputs": [],
   "source": []
  },
  {
   "cell_type": "code",
   "execution_count": 12,
   "id": "0e9d3fae",
   "metadata": {},
   "outputs": [
    {
     "name": "stderr",
     "output_type": "stream",
     "text": [
      "100%|██████████| 50/50 [00:00<00:00, 34981.68it/s]\n",
      "100%|██████████| 50/50 [00:00<00:00, 1155.87it/s]\n",
      "100%|██████████| 50/50 [00:00<00:00, 764.63it/s]\n",
      "  6%|▌         | 3/50 [00:00<00:02, 21.16it/s]"
     ]
    },
    {
     "name": "stdout",
     "output_type": "stream",
     "text": [
      "d = 2.0\n",
      "Start to train weights...\n"
     ]
    },
    {
     "name": "stderr",
     "output_type": "stream",
     "text": [
      "100%|██████████| 50/50 [00:01<00:00, 26.79it/s]\n",
      "100%|██████████| 50/50 [00:01<00:00, 27.40it/s]\n",
      "100%|██████████| 50/50 [00:02<00:00, 20.56it/s]\n",
      "100%|██████████| 50/50 [00:02<00:00, 22.07it/s]\n",
      "  6%|▌         | 3/50 [00:00<00:01, 29.42it/s]"
     ]
    },
    {
     "name": "stdout",
     "output_type": "stream",
     "text": [
      "d = 3.0\n",
      "Start to train weights...\n"
     ]
    },
    {
     "name": "stderr",
     "output_type": "stream",
     "text": [
      "100%|██████████| 50/50 [00:01<00:00, 29.20it/s]\n",
      "100%|██████████| 50/50 [00:01<00:00, 25.26it/s]\n",
      "100%|██████████| 50/50 [00:03<00:00, 14.12it/s]\n",
      "100%|██████████| 50/50 [00:03<00:00, 15.29it/s]\n",
      "  6%|▌         | 3/50 [00:00<00:01, 26.30it/s]"
     ]
    },
    {
     "name": "stdout",
     "output_type": "stream",
     "text": [
      "d = 4.0\n",
      "Start to train weights...\n"
     ]
    },
    {
     "name": "stderr",
     "output_type": "stream",
     "text": [
      "100%|██████████| 50/50 [00:01<00:00, 26.12it/s]\n",
      "100%|██████████| 50/50 [00:01<00:00, 26.80it/s]\n",
      "100%|██████████| 50/50 [00:02<00:00, 21.39it/s]\n",
      "100%|██████████| 50/50 [00:02<00:00, 17.85it/s]\n",
      "  4%|▍         | 2/50 [00:00<00:02, 17.60it/s]"
     ]
    },
    {
     "name": "stdout",
     "output_type": "stream",
     "text": [
      "d = 5.0\n",
      "Start to train weights...\n"
     ]
    },
    {
     "name": "stderr",
     "output_type": "stream",
     "text": [
      "100%|██████████| 50/50 [00:01<00:00, 27.21it/s]\n",
      "100%|██████████| 50/50 [00:01<00:00, 29.61it/s]\n",
      "100%|██████████| 50/50 [00:02<00:00, 20.54it/s]\n",
      "100%|██████████| 50/50 [00:02<00:00, 17.23it/s]\n",
      "  6%|▌         | 3/50 [00:00<00:01, 29.86it/s]"
     ]
    },
    {
     "name": "stdout",
     "output_type": "stream",
     "text": [
      "d = 6.0\n",
      "Start to train weights...\n"
     ]
    },
    {
     "name": "stderr",
     "output_type": "stream",
     "text": [
      "100%|██████████| 50/50 [00:01<00:00, 28.37it/s]\n",
      "100%|██████████| 50/50 [00:01<00:00, 29.38it/s]\n",
      "100%|██████████| 50/50 [00:02<00:00, 20.71it/s]\n",
      "100%|██████████| 50/50 [00:02<00:00, 19.18it/s]\n",
      "  6%|▌         | 3/50 [00:00<00:01, 24.33it/s]"
     ]
    },
    {
     "name": "stdout",
     "output_type": "stream",
     "text": [
      "d = 7.0\n",
      "Start to train weights...\n"
     ]
    },
    {
     "name": "stderr",
     "output_type": "stream",
     "text": [
      "100%|██████████| 50/50 [00:02<00:00, 16.78it/s]\n",
      "100%|██████████| 50/50 [00:02<00:00, 23.78it/s]\n",
      "100%|██████████| 50/50 [00:02<00:00, 17.79it/s]\n",
      "100%|██████████| 50/50 [00:03<00:00, 15.87it/s]\n",
      "  6%|▌         | 3/50 [00:00<00:01, 26.88it/s]"
     ]
    },
    {
     "name": "stdout",
     "output_type": "stream",
     "text": [
      "d = 8.0\n",
      "Start to train weights...\n"
     ]
    },
    {
     "name": "stderr",
     "output_type": "stream",
     "text": [
      "100%|██████████| 50/50 [00:01<00:00, 26.78it/s]\n",
      "100%|██████████| 50/50 [00:01<00:00, 27.76it/s]\n",
      "100%|██████████| 50/50 [00:02<00:00, 19.18it/s]\n",
      "100%|██████████| 50/50 [00:02<00:00, 18.05it/s]\n",
      "  6%|▌         | 3/50 [00:00<00:02, 19.81it/s]"
     ]
    },
    {
     "name": "stdout",
     "output_type": "stream",
     "text": [
      "d = 9.0\n",
      "Start to train weights...\n"
     ]
    },
    {
     "name": "stderr",
     "output_type": "stream",
     "text": [
      "100%|██████████| 50/50 [00:02<00:00, 22.22it/s]\n",
      "100%|██████████| 50/50 [00:01<00:00, 25.46it/s]\n",
      "100%|██████████| 50/50 [00:02<00:00, 19.66it/s]\n",
      "100%|██████████| 50/50 [00:03<00:00, 15.36it/s]\n",
      "  6%|▌         | 3/50 [00:00<00:01, 27.28it/s]"
     ]
    },
    {
     "name": "stdout",
     "output_type": "stream",
     "text": [
      "d = 10.0\n",
      "Start to train weights...\n"
     ]
    },
    {
     "name": "stderr",
     "output_type": "stream",
     "text": [
      "100%|██████████| 50/50 [00:01<00:00, 26.27it/s]\n",
      "100%|██████████| 50/50 [00:02<00:00, 23.48it/s]\n",
      "100%|██████████| 50/50 [00:02<00:00, 18.52it/s]\n",
      "100%|██████████| 50/50 [00:02<00:00, 19.12it/s]\n",
      "  6%|▌         | 3/50 [00:00<00:01, 26.96it/s]"
     ]
    },
    {
     "name": "stdout",
     "output_type": "stream",
     "text": [
      "d = 11.0\n",
      "Start to train weights...\n"
     ]
    },
    {
     "name": "stderr",
     "output_type": "stream",
     "text": [
      "100%|██████████| 50/50 [00:01<00:00, 26.70it/s]\n",
      "100%|██████████| 50/50 [00:01<00:00, 26.19it/s]\n",
      "100%|██████████| 50/50 [00:02<00:00, 20.16it/s]\n",
      "100%|██████████| 50/50 [00:03<00:00, 16.22it/s]\n",
      "  6%|▌         | 3/50 [00:00<00:01, 25.82it/s]"
     ]
    },
    {
     "name": "stdout",
     "output_type": "stream",
     "text": [
      "d = 12.0\n",
      "Start to train weights...\n"
     ]
    },
    {
     "name": "stderr",
     "output_type": "stream",
     "text": [
      "100%|██████████| 50/50 [00:02<00:00, 22.75it/s]\n",
      "100%|██████████| 50/50 [00:02<00:00, 24.71it/s]\n",
      "100%|██████████| 50/50 [00:02<00:00, 19.93it/s]\n",
      "100%|██████████| 50/50 [00:02<00:00, 21.33it/s]\n"
     ]
    },
    {
     "data": {
      "text/plain": [
       "Text(0.5, 1.0, 'Corrupted Pattern Recovery, N = 100, P = 50')"
      ]
     },
     "execution_count": 12,
     "metadata": {},
     "output_type": "execute_result"
    },
    {
     "data": {
      "image/png": "[encoded data removed]",
      "text/plain": [
       "<Figure size 1080x432 with 2 Axes>"
      ]
     },
     "metadata": {
      "needs_background": "light"
     },
     "output_type": "display_data"
    }
   ],
   "source": [
    "# Generate Patterns\n",
    "num_neuron = 100\n",
    "num_pattern = 50\n",
    "degrees = np.linspace(2,12, 11)\n",
    "patterns = generate_patterns(num_neuron, num_pattern)\n",
    "\n",
    "h_reconstruction1 = np.zeros(len(degrees))\n",
    "h_reconstruction2 = np.zeros(len(degrees))\n",
    "mh_reconstruction1 = np.zeros(len(degrees))\n",
    "mh_reconstruction2 = np.zeros(len(degrees))\n",
    "damn_reconstruction1 = np.zeros(len(degrees))\n",
    "damn_reconstruction2 = np.zeros(len(degrees))\n",
    "\n",
    "# Generate Corrupted Patterns\n",
    "flipped_patterns = np.array([flip_bit(p) for p in patterns])\n",
    "corrupted_patterns = np.array([corrupt_pattern(p, 0.2) for p in patterns])\n",
    "\n",
    "# Create Hopfield Network Model\n",
    "hopfield_model = HopfieldNetwork()\n",
    "hopfield_model.train_weights(patterns)\n",
    "h_reconstructed_patterns1 = np.array(hopfield_model.predict(flipped_patterns))\n",
    "h_reconstructed_patterns2 = np.array(hopfield_model.predict(corrupted_patterns))\n",
    "\n",
    "for degree_idx, degree in enumerate(degrees):\n",
    "    print(f'd = {degree}')\n",
    "    # Create Degree Dependent Hopfield Networks\n",
    "    modified_hopfield_model = ModifiedHopfieldNetwork()\n",
    "    modified_hopfield_model.train_weights(patterns, n=degree)\n",
    "    damn_model = Dense_Network()\n",
    "    damn_model.train_weights(patterns, n=degree)\n",
    "\n",
    "    # Try to Reconstruct Original Patterns\n",
    "    mh_reconstructed_patterns1 = np.array(modified_hopfield_model.predict(flipped_patterns))\n",
    "    mh_reconstructed_patterns2 = np.array(modified_hopfield_model.predict(corrupted_patterns))\n",
    "    damn_reconstructed_patterns1 = np.array(damn_model.predict(flipped_patterns))\n",
    "    damn_reconstructed_patterns2 = np.array(damn_model.predict(corrupted_patterns))\n",
    "\n",
    "    h_reconstruction1[degree_idx] = np.sum(np.array([np.abs(np.dot(patterns[i], h_reconstructed_patterns1[i])) for i in range(num_pattern)]) / num_neuron) / num_pattern\n",
    "    h_reconstruction2[degree_idx] = np.sum(np.array([np.abs(np.dot(patterns[i], h_reconstructed_patterns2[i])) for i in range(num_pattern)]) / num_neuron) / num_pattern\n",
    "    mh_reconstruction1[degree_idx] = np.sum(np.array([np.abs(np.dot(patterns[i], mh_reconstructed_patterns1[i])) for i in range(num_pattern)]) / num_neuron) / num_pattern\n",
    "    mh_reconstruction2[degree_idx] = np.sum(np.array([np.abs(np.dot(patterns[i], mh_reconstructed_patterns2[i])) for i in range(num_pattern)]) / num_neuron) / num_pattern\n",
    "    damn_reconstruction1[degree_idx] = np.sum(np.array([np.abs(np.dot(patterns[i], damn_reconstructed_patterns1[i])) for i in range(num_pattern)]) / num_neuron) / num_pattern\n",
    "    damn_reconstruction2[degree_idx] = np.sum(np.array([np.abs(np.dot(patterns[i], damn_reconstructed_patterns2[i])) for i in range(num_pattern)]) / num_neuron) / num_pattern    \n",
    "    \n",
    "fig, axarr = plt.subplots(1,2, figsize=(15,6))\n",
    "\n",
    "axarr[0].plot(degrees, h_reconstruction1, label = 'Hopfield')\n",
    "axarr[0].plot(degrees, mh_reconstruction1, label = 'Modified Hopfield')\n",
    "axarr[0].plot(degrees, damn_reconstruction1, label = 'DAMN')\n",
    "axarr[0].set_xlabel('Degree')\n",
    "axarr[0].set_ylabel('Recovery')\n",
    "axarr[0].legend()\n",
    "axarr[0].set_title(f'Flipped Bit Pattern Recovery, N = {num_neuron}, P = {num_pattern}')\n",
    "\n",
    "axarr[1].plot(degrees, h_reconstruction2, label = 'Hopfield')\n",
    "axarr[1].plot(degrees, mh_reconstruction2, label = 'Modified Hopfield')\n",
    "axarr[1].plot(degrees, damn_reconstruction2, label = 'DAMN')\n",
    "axarr[1].set_xlabel('Degree')\n",
    "axarr[1].set_ylabel('Recovery')\n",
    "axarr[1].legend()\n",
    "axarr[1].set_title(f'Corrupted Pattern Recovery, N = {num_neuron}, P = {num_pattern}')"
   ]
  },
  {
   "cell_type": "code",
   "execution_count": null,
   "id": "01e9b8fc",
   "metadata": {},
   "outputs": [],
   "source": [
    "# Generate Patterns\n",
    "num_neuron = 100\n",
    "num_pattern = 20\n",
    "degrees = np.linspace(2,102, 5)\n",
    "patterns = generate_patterns(num_neuron, num_pattern)\n",
    "\n",
    "h_reconstruction1 = np.zeros(len(degrees))\n",
    "h_reconstruction2 = np.zeros(len(degrees))\n",
    "mh_reconstruction1 = np.zeros(len(degrees))\n",
    "mh_reconstruction2 = np.zeros(len(degrees))\n",
    "damn_reconstruction1 = np.zeros(len(degrees))\n",
    "damn_reconstruction2 = np.zeros(len(degrees))\n",
    "\n",
    "# Generate Corrupted Patterns\n",
    "flipped_patternsText = np.array([flip_bit(p) for p in patterns])\n",
    "corrupted_patterns = np.array([corrupt_pattern(p, 0.2) for p in patterns])\n",
    "\n",
    "# Create Hopfield Network Model\n",
    "hopfield_model = HopfieldNetwork()\n",
    "hopfield_model.train_weights(patterns)\n",
    "h_reconstructed_patterns1 = np.array(hopfield_model.predict(flipped_patterns))\n",
    "h_reconstructed_patterns2 = np.array(hopfield_model.predict(corrupted_patterns))\n",
    "\n",
    "for degree_idx, degree in enumerate(degrees):\n",
    "    print(f'd = {degree}')\n",
    "    # Create Degree Dependent Hopfield Networks\n",
    "    modified_hopfield_model = ModifiedHopfieldNetwork()\n",
    "    modified_hopfield_model.train_weights(patterns, n=degree)\n",
    "    damn_model = Dense_Network()\n",
    "    damn_model.train_weights(patterns, n=degree)\n",
    "\n",
    "    # Try to Reconstruct Original Patterns\n",
    "    mh_reconstructed_patterns1 = np.array(modified_hopfield_model.predict(flipped_patterns))\n",
    "    mh_reconstructed_patterns2 = np.array(modified_hopfield_model.predict(corrupted_patterns))\n",
    "    damn_reconstructed_patterns1 = np.array(damn_model.predict(flipped_patterns))\n",
    "    damn_reconstructed_patterns2 = np.array(damn_model.predict(corrupted_patterns))\n",
    "\n",
    "    h_reconstruction1[degree_idx] = np.sum(np.array([np.abs(np.dot(patterns[i], h_reconstructed_patterns1[i])) for i in range(num_pattern)]) / num_neuron) / num_pattern\n",
    "    h_reconstruction2[degree_idx] = np.sum(np.array([np.abs(np.dot(patterns[i], h_reconstructed_patterns2[i])) for i in range(num_pattern)]) / num_neuron) / num_pattern\n",
    "    mh_reconstruction1[degree_idx] = np.sum(np.array([np.abs(np.dot(patterns[i], mh_reconstructed_patterns1[i])) for i in range(num_pattern)]) / num_neuron) / num_pattern\n",
    "    mh_reconstruction2[degree_idx] = np.sum(np.array([np.abs(np.dot(patterns[i], mh_reconstructed_patterns2[i])) for i in range(num_pattern)]) / num_neuron) / num_pattern\n",
    "    damn_reconstruction1[degree_idx] = np.sum(np.array([np.abs(np.dot(patterns[i], damn_reconstructed_patterns1[i])) for i in range(num_pattern)]) / num_neuron) / num_pattern\n",
    "    damn_reconstruction2[degree_idx] = np.sum(np.array([np.abs(np.dot(patterns[i], damn_reconstructed_patterns2[i])) for i in range(num_pattern)]) / num_neuron) / num_pattern    \n",
    "    \n",
    "fig, axarr = plt.subplots(1,2, figsize=(15,6))\n",
    "\n",
    "axarr[0].plot(degrees, h_reconstruction1, label = 'Hopfield')\n",
    "axarr[0].plot(degrees, mh_reconstruction1, label = 'Modified Hopfield')\n",
    "axarr[0].plot(degrees, damn_reconstruction1, label = 'DAMN')\n",
    "axarr[0].set_xlabel('Degree')\n",
    "axarr[0].set_ylabel('Recovery')\n",
    "axarr[0].legend()\n",
    "axarr[0].set_title(f'Flipped Bit Pattern Recovery, N = {num_neuron}, P = {num_pattern}')\n",
    "\n",
    "axarr[1].plot(degrees, h_reconstruction2, label = 'Hopfield')\n",
    "axarr[1].plot(degrees, mh_reconstruction2, label = 'Modified Hopfield')\n",
    "axarr[1].plot(degrees, damn_reconstruction2, label = 'DAMN')\n",
    "axarr[1].set_xlabel('Degree')\n",
    "axarr[1].set_ylabel('Recovery')\n",
    "axarr[1].legend()\n",
    "axarr[1].set_title(f'Corrupted Pattern Recovery, N = {num_neuron}, P = {num_pattern}')"
   ]
  },
  {
   "cell_type": "code",
   "execution_count": 67,
   "id": "a44ab394",
   "metadata": {},
   "outputs": [
    {
     "name": "stderr",
     "output_type": "stream",
     "text": [
      "100%|██████████| 50/50 [00:00<00:00, 22427.03it/s]\n",
      "100%|██████████| 50/50 [00:00<00:00, 200.33it/s]\n",
      "100%|██████████| 50/50 [00:00<00:00, 187.84it/s]\n",
      "  8%|▊         | 4/50 [00:00<00:01, 30.92it/s]"
     ]
    },
    {
     "name": "stdout",
     "output_type": "stream",
     "text": [
      "N = 2.0\n",
      "Start to train weights...\n"
     ]
    },
    {
     "name": "stderr",
     "output_type": "stream",
     "text": [
      "100%|██████████| 50/50 [00:01<00:00, 26.96it/s]\n",
      "100%|██████████| 50/50 [00:01<00:00, 25.54it/s]\n",
      "100%|██████████| 50/50 [00:02<00:00, 20.43it/s]\n",
      "100%|██████████| 50/50 [00:02<00:00, 20.35it/s]\n",
      "  6%|▌         | 3/50 [00:00<00:01, 27.18it/s]"
     ]
    },
    {
     "name": "stdout",
     "output_type": "stream",
     "text": [
      "N = 27.0\n",
      "Start to train weights...\n"
     ]
    },
    {
     "name": "stderr",
     "output_type": "stream",
     "text": [
      "100%|██████████| 50/50 [00:01<00:00, 26.94it/s]\n",
      "100%|██████████| 50/50 [00:01<00:00, 26.75it/s]\n",
      "100%|██████████| 50/50 [00:02<00:00, 21.29it/s]\n",
      "100%|██████████| 50/50 [00:02<00:00, 21.09it/s]\n",
      " 12%|█▏        | 6/50 [00:00<00:01, 28.13it/s]"
     ]
    },
    {
     "name": "stdout",
     "output_type": "stream",
     "text": [
      "N = 52.0\n",
      "Start to train weights...\n"
     ]
    },
    {
     "name": "stderr",
     "output_type": "stream",
     "text": [
      "100%|██████████| 50/50 [00:01<00:00, 26.74it/s]\n",
      "100%|██████████| 50/50 [00:01<00:00, 25.44it/s]\n",
      "100%|██████████| 50/50 [00:02<00:00, 20.30it/s]\n",
      "100%|██████████| 50/50 [00:02<00:00, 19.52it/s]\n",
      "  6%|▌         | 3/50 [00:00<00:01, 29.03it/s]"
     ]
    },
    {
     "name": "stdout",
     "output_type": "stream",
     "text": [
      "N = 77.0\n",
      "Start to train weights...\n"
     ]
    },
    {
     "name": "stderr",
     "output_type": "stream",
     "text": [
      "100%|██████████| 50/50 [00:01<00:00, 27.72it/s]\n",
      "100%|██████████| 50/50 [00:01<00:00, 26.93it/s]\n",
      "100%|██████████| 50/50 [00:02<00:00, 18.60it/s]\n",
      "100%|██████████| 50/50 [00:02<00:00, 20.48it/s]\n",
      "  6%|▌         | 3/50 [00:00<00:01, 25.71it/s]"
     ]
    },
    {
     "name": "stdout",
     "output_type": "stream",
     "text": [
      "N = 102.0\n",
      "Start to train weights...\n"
     ]
    },
    {
     "name": "stderr",
     "output_type": "stream",
     "text": [
      "100%|██████████| 50/50 [00:02<00:00, 24.13it/s]\n",
      "100%|██████████| 50/50 [00:01<00:00, 26.09it/s]\n",
      "100%|██████████| 50/50 [00:02<00:00, 17.81it/s]\n",
      "100%|██████████| 50/50 [00:02<00:00, 19.50it/s]\n"
     ]
    },
    {
     "data": {
      "text/plain": [
       "Text(0.5, 1.0, 'Corrupted Pattern Recovery, N = 100, P = 50')"
      ]
     },
     "execution_count": 67,
     "metadata": {},
     "output_type": "execute_result"
    },
    {
     "data": {
      "image/png": "[encoded data removed]",
      "text/plain": [
       "<Figure size 1080x432 with 2 Axes>"
      ]
     },
     "metadata": {
      "needs_background": "light"
     },
     "output_type": "display_data"
    }
   ],
   "source": [
    "# Generate Patterns\n",
    "num_neuron = 100\n",
    "num_pattern = 50\n",
    "degrees = np.linspace(2,102, 5)\n",
    "patterns = generate_patterns(num_neuron, num_pattern)\n",
    "\n",
    "h_reconstruction1 = np.zeros(len(degrees))\n",
    "h_reconstruction2 = np.zeros(len(degrees))\n",
    "mh_reconstruction1 = np.zeros(len(degrees))\n",
    "mh_reconstruction2 = np.zeros(len(degrees))\n",
    "damn_reconstruction1 = np.zeros(len(degrees))\n",
    "damn_reconstruction2 = np.zeros(len(degrees))\n",
    "\n",
    "# Generate Corrupted Patterns\n",
    "flipped_patterns = np.array([flip_bit(p) for p in patterns])\n",
    "corrupted_patterns = np.array([corrupt_pattern(p, 0.2) for p in patterns])\n",
    "\n",
    "# Create Hopfield Network Model\n",
    "hopfield_model = HopfieldNetwork()\n",
    "hopfield_model.train_weights(patterns)\n",
    "h_reconstructed_patterns1 = np.array(hopfield_model.predict(flipped_patterns))\n",
    "h_reconstructed_patterns2 = np.array(hopfield_model.predict(corrupted_patterns))\n",
    "\n",
    "for degree_idx, degree in enumerate(degrees):\n",
    "    print(f'N = {degree}')\n",
    "    # Create Degree Dependent Hopfield Networks\n",
    "    modified_hopfield_model = ModifiedHopfieldNetwork()\n",
    "    modified_hopfield_model.train_weights(patterns, n=degree)\n",
    "    damn_model = Dense_Network()\n",
    "    damn_model.train_weights(patterns, n=degree)\n",
    "\n",
    "    # Try to Reconstruct Original Patterns\n",
    "    mh_reconstructed_patterns1 = np.array(modified_hopfield_model.predict(flipped_patterns))\n",
    "    mh_reconstructed_patterns2 = np.array(modified_hopfield_model.predict(corrupted_patterns))\n",
    "    damn_reconstructed_patterns1 = np.array(damn_model.predict(flipped_patterns))\n",
    "    damn_reconstructed_patterns2 = np.array(damn_model.predict(corrupted_patterns))\n",
    "\n",
    "    h_reconstruction1[degree_idx] = np.sum(np.array([np.abs(np.dot(patterns[i], h_reconstructed_patterns1[i])) for i in range(num_pattern)]) / num_neuron) / num_pattern\n",
    "    h_reconstruction2[degree_idx] = np.sum(np.array([np.abs(np.dot(patterns[i], h_reconstructed_patterns2[i])) for i in range(num_pattern)]) / num_neuron) / num_pattern\n",
    "    mh_reconstruction1[degree_idx] = np.sum(np.array([np.abs(np.dot(patterns[i], mh_reconstructed_patterns1[i])) for i in range(num_pattern)]) / num_neuron) / num_pattern\n",
    "    mh_reconstruction2[degree_idx] = np.sum(np.array([np.abs(np.dot(patterns[i], mh_reconstructed_patterns2[i])) for i in range(num_pattern)]) / num_neuron) / num_pattern\n",
    "    damn_reconstruction1[degree_idx] = np.sum(np.array([np.abs(np.dot(patterns[i], damn_reconstructed_patterns1[i])) for i in range(num_pattern)]) / num_neuron) / num_pattern\n",
    "    damn_reconstruction2[degree_idx] = np.sum(np.array([np.abs(np.dot(patterns[i], damn_reconstructed_patterns2[i])) for i in range(num_pattern)]) / num_neuron) / num_pattern    \n",
    "    \n",
    "fig, axarr = plt.subplots(1,2, figsize=(15,6))\n",
    "\n",
    "axarr[0].plot(degrees, h_reconstruction1, label = 'Hopfield')\n",
    "axarr[0].plot(degrees, mh_reconstruction1, label = 'Modified Hopfield')\n",
    "axarr[0].plot(degrees, damn_reconstruction1, label = 'DAMN')\n",
    "axarr[0].set_xlabel('Degree')\n",
    "axarr[0].set_ylabel('Recovery')\n",
    "axarr[0].legend()\n",
    "axarr[0].set_title(f'Flipped Bit Pattern Recovery, N = {num_neuron}, P = {num_pattern}')\n",
    "\n",
    "axarr[1].plot(degrees, h_reconstruction2, label = 'Hopfield')\n",
    "axarr[1].plot(degrees, mh_reconstruction2, label = 'Modified Hopfield')\n",
    "axarr[1].plot(degrees, damn_reconstruction2, label = 'DAMN')\n",
    "axarr[1].set_xlabel('Degree')\n",
    "axarr[1].set_ylabel('Recovery')\n",
    "axarr[1].legend()\n",
    "axarr[1].set_title(f'Corrupted Pattern Recovery, N = {num_neuron}, P = {num_pattern}')"
   ]
  },
  {
   "cell_type": "code",
   "execution_count": 68,
   "id": "5ecce291",
   "metadata": {},
   "outputs": [
    {
     "name": "stderr",
     "output_type": "stream",
     "text": [
      "100%|██████████| 100/100 [00:00<00:00, 40705.59it/s]\n",
      "100%|██████████| 100/100 [00:00<00:00, 164.08it/s]\n",
      "100%|██████████| 100/100 [00:00<00:00, 177.20it/s]\n",
      "  2%|▏         | 2/100 [00:00<00:07, 13.96it/s]"
     ]
    },
    {
     "name": "stdout",
     "output_type": "stream",
     "text": [
      "N = 2.0\n",
      "Start to train weights...\n"
     ]
    },
    {
     "name": "stderr",
     "output_type": "stream",
     "text": [
      "100%|██████████| 100/100 [00:07<00:00, 12.55it/s]\n",
      "100%|██████████| 100/100 [00:07<00:00, 12.66it/s]\n",
      "100%|██████████| 100/100 [00:10<00:00,  9.97it/s]\n",
      "100%|██████████| 100/100 [00:09<00:00, 10.18it/s]\n",
      "  2%|▏         | 2/100 [00:00<00:06, 15.23it/s]"
     ]
    },
    {
     "name": "stdout",
     "output_type": "stream",
     "text": [
      "N = 27.0\n",
      "Start to train weights...\n"
     ]
    },
    {
     "name": "stderr",
     "output_type": "stream",
     "text": [
      "100%|██████████| 100/100 [00:07<00:00, 12.91it/s]\n",
      "100%|██████████| 100/100 [00:09<00:00, 11.07it/s]\n",
      "100%|██████████| 100/100 [00:10<00:00,  9.47it/s]\n",
      "100%|██████████| 100/100 [00:14<00:00,  7.14it/s]\n",
      "  2%|▏         | 2/100 [00:00<00:09, 10.79it/s]"
     ]
    },
    {
     "name": "stdout",
     "output_type": "stream",
     "text": [
      "N = 52.0\n",
      "Start to train weights...\n"
     ]
    },
    {
     "name": "stderr",
     "output_type": "stream",
     "text": [
      "100%|██████████| 100/100 [00:08<00:00, 11.50it/s]\n",
      "100%|██████████| 100/100 [00:07<00:00, 12.61it/s]\n",
      "100%|██████████| 100/100 [00:10<00:00,  9.09it/s]\n",
      "100%|██████████| 100/100 [00:09<00:00, 10.58it/s]\n",
      "  2%|▏         | 2/100 [00:00<00:07, 12.78it/s]"
     ]
    },
    {
     "name": "stdout",
     "output_type": "stream",
     "text": [
      "N = 77.0\n",
      "Start to train weights...\n"
     ]
    },
    {
     "name": "stderr",
     "output_type": "stream",
     "text": [
      "100%|██████████| 100/100 [00:08<00:00, 12.45it/s]\n",
      "100%|██████████| 100/100 [00:08<00:00, 11.36it/s]\n",
      "100%|██████████| 100/100 [00:10<00:00,  9.62it/s]\n",
      "100%|██████████| 100/100 [00:11<00:00,  8.94it/s]\n",
      "  2%|▏         | 2/100 [00:00<00:07, 13.84it/s]"
     ]
    },
    {
     "name": "stdout",
     "output_type": "stream",
     "text": [
      "N = 102.0\n",
      "Start to train weights...\n"
     ]
    },
    {
     "name": "stderr",
     "output_type": "stream",
     "text": [
      "100%|██████████| 100/100 [00:07<00:00, 13.58it/s]\n",
      "100%|██████████| 100/100 [00:07<00:00, 13.17it/s]\n",
      "100%|██████████| 100/100 [00:09<00:00, 10.14it/s]\n",
      "100%|██████████| 100/100 [00:09<00:00, 10.23it/s]\n"
     ]
    },
    {
     "data": {
      "text/plain": [
       "Text(0.5, 1.0, 'Corrupted Pattern Recovery, N = 100, P = 100')"
      ]
     },
     "execution_count": 68,
     "metadata": {},
     "output_type": "execute_result"
    },
    {
     "data": {
      "image/png": "[encoded data removed]",
      "text/plain": [
       "<Figure size 1080x432 with 2 Axes>"
      ]
     },
     "metadata": {
      "needs_background": "light"
     },
     "output_type": "display_data"
    }
   ],
   "source": [
    "# Generate Patterns\n",
    "num_neuron = 100\n",
    "num_pattern = 100\n",
    "degrees = np.linspace(2,102, 5)\n",
    "patterns = generate_patterns(num_neuron, num_pattern)\n",
    "\n",
    "h_reconstruction1 = np.zeros(len(degrees))\n",
    "h_reconstruction2 = np.zeros(len(degrees))\n",
    "mh_reconstruction1 = np.zeros(len(degrees))\n",
    "mh_reconstruction2 = np.zeros(len(degrees))\n",
    "damn_reconstruction1 = np.zeros(len(degrees))\n",
    "damn_reconstruction2 = np.zeros(len(degrees))\n",
    "\n",
    "# Generate Corrupted Patterns\n",
    "flipped_patterns = np.array([flip_bit(p) for p in patterns])\n",
    "corrupted_patterns = np.array([corrupt_pattern(p, 0.2) for p in patterns])\n",
    "\n",
    "# Create Hopfield Network Model\n",
    "hopfield_model = HopfieldNetwork()\n",
    "hopfield_model.train_weights(patterns)\n",
    "h_reconstructed_patterns1 = np.array(hopfield_model.predict(flipped_patterns))\n",
    "h_reconstructed_patterns2 = np.array(hopfield_model.predict(corrupted_patterns))\n",
    "\n",
    "for degree_idx, degree in enumerate(degrees):\n",
    "    print(f'N = {degree}')\n",
    "    # Create Degree Dependent Hopfield Networks\n",
    "    modified_hopfield_model = ModifiedHopfieldNetwork()\n",
    "    modified_hopfield_model.train_weights(patterns, n=degree)\n",
    "    damn_model = Dense_Network()\n",
    "    damn_model.train_weights(patterns, n=degree)\n",
    "\n",
    "    # Try to Reconstruct Original Patterns\n",
    "    mh_reconstructed_patterns1 = np.array(modified_hopfield_model.predict(flipped_patterns))\n",
    "    mh_reconstructed_patterns2 = np.array(modified_hopfield_model.predict(corrupted_patterns))\n",
    "    damn_reconstructed_patterns1 = np.array(damn_model.predict(flipped_patterns))\n",
    "    damn_reconstructed_patterns2 = np.array(damn_model.predict(corrupted_patterns))\n",
    "\n",
    "    h_reconstruction1[degree_idx] = np.sum(np.array([np.abs(np.dot(patterns[i], h_reconstructed_patterns1[i])) for i in range(num_pattern)]) / num_neuron) / num_pattern\n",
    "    h_reconstruction2[degree_idx] = np.sum(np.array([np.abs(np.dot(patterns[i], h_reconstructed_patterns2[i])) for i in range(num_pattern)]) / num_neuron) / num_pattern\n",
    "    mh_reconstruction1[degree_idx] = np.sum(np.array([np.abs(np.dot(patterns[i], mh_reconstructed_patterns1[i])) for i in range(num_pattern)]) / num_neuron) / num_pattern\n",
    "    mh_reconstruction2[degree_idx] = np.sum(np.array([np.abs(np.dot(patterns[i], mh_reconstructed_patterns2[i])) for i in range(num_pattern)]) / num_neuron) / num_pattern\n",
    "    damn_reconstruction1[degree_idx] = np.sum(np.array([np.abs(np.dot(patterns[i], damn_reconstructed_patterns1[i])) for i in range(num_pattern)]) / num_neuron) / num_pattern\n",
    "    damn_reconstruction2[degree_idx] = np.sum(np.array([np.abs(np.dot(patterns[i], damn_reconstructed_patterns2[i])) for i in range(num_pattern)]) / num_neuron) / num_pattern    \n",
    "    \n",
    "fig, axarr = plt.subplots(1,2, figsize=(15,6))\n",
    "\n",
    "axarr[0].plot(degrees, h_reconstruction1, label = 'Hopfield')\n",
    "axarr[0].plot(degrees, mh_reconstruction1, label = 'Modified Hopfield')\n",
    "axarr[0].plot(degrees, damn_reconstruction1, label = 'DAMN')\n",
    "axarr[0].set_xlabel('Degree')\n",
    "axarr[0].set_ylabel('Recovery')\n",
    "axarr[0].legend()\n",
    "axarr[0].set_title(f'Flipped Bit Pattern Recovery, N = {num_neuron}, P = {num_pattern}')\n",
    "\n",
    "axarr[1].plot(degrees, h_reconstruction2, label = 'Hopfield')\n",
    "axarr[1].plot(degrees, mh_reconstruction2, label = 'Modified Hopfield')\n",
    "axarr[1].plot(degrees, damn_reconstruction2, label = 'DAMN')\n",
    "axarr[1].set_xlabel('Degree')\n",
    "axarr[1].set_ylabel('Recovery')\n",
    "axarr[1].legend()\n",
    "axarr[1].set_title(f'Corrupted Pattern Recovery, N = {num_neuron}, P = {num_pattern}')"
   ]
  },
  {
   "cell_type": "code",
   "execution_count": 82,
   "id": "01525c0f",
   "metadata": {},
   "outputs": [
    {
     "name": "stderr",
     "output_type": "stream",
     "text": [
      "100%|██████████| 20/20 [00:00<00:00, 405.14it/s]\n",
      "100%|██████████| 20/20 [00:00<00:00, 652.21it/s]\n",
      "100%|██████████| 20/20 [00:00<00:00, 52.17it/s]\n",
      "  5%|▌         | 1/20 [00:00<00:02,  6.65it/s]"
     ]
    },
    {
     "name": "stdout",
     "output_type": "stream",
     "text": [
      "N = 2.0\n",
      "Start to train weights...\n"
     ]
    },
    {
     "name": "stderr",
     "output_type": "stream",
     "text": [
      "100%|██████████| 20/20 [00:02<00:00,  7.02it/s]\n",
      "100%|██████████| 20/20 [00:02<00:00,  6.93it/s]\n",
      "100%|██████████| 20/20 [00:04<00:00,  4.82it/s]\n",
      "100%|██████████| 20/20 [00:04<00:00,  4.77it/s]\n",
      "  5%|▌         | 1/20 [00:00<00:02,  6.97it/s]"
     ]
    },
    {
     "name": "stdout",
     "output_type": "stream",
     "text": [
      "N = 12.0\n",
      "Start to train weights...\n"
     ]
    },
    {
     "name": "stderr",
     "output_type": "stream",
     "text": [
      "100%|██████████| 20/20 [00:03<00:00,  6.64it/s]\n",
      "100%|██████████| 20/20 [00:03<00:00,  6.54it/s]\n",
      "100%|██████████| 20/20 [00:04<00:00,  4.73it/s]\n",
      "100%|██████████| 20/20 [00:04<00:00,  4.76it/s]\n",
      "  5%|▌         | 1/20 [00:00<00:03,  5.70it/s]"
     ]
    },
    {
     "name": "stdout",
     "output_type": "stream",
     "text": [
      "N = 22.0\n",
      "Start to train weights...\n"
     ]
    },
    {
     "name": "stderr",
     "output_type": "stream",
     "text": [
      "100%|██████████| 20/20 [00:03<00:00,  6.56it/s]\n",
      "100%|██████████| 20/20 [00:03<00:00,  6.37it/s]\n",
      "100%|██████████| 20/20 [00:04<00:00,  4.64it/s]\n",
      "100%|██████████| 20/20 [00:04<00:00,  4.77it/s]\n",
      "  5%|▌         | 1/20 [00:00<00:02,  6.94it/s]"
     ]
    },
    {
     "name": "stdout",
     "output_type": "stream",
     "text": [
      "N = 32.0\n",
      "Start to train weights...\n"
     ]
    },
    {
     "name": "stderr",
     "output_type": "stream",
     "text": [
      "100%|██████████| 20/20 [00:03<00:00,  6.58it/s]\n",
      "100%|██████████| 20/20 [00:03<00:00,  6.65it/s]\n",
      "100%|██████████| 20/20 [00:04<00:00,  4.84it/s]\n",
      "100%|██████████| 20/20 [00:04<00:00,  4.60it/s]\n",
      "  5%|▌         | 1/20 [00:00<00:02,  6.81it/s]"
     ]
    },
    {
     "name": "stdout",
     "output_type": "stream",
     "text": [
      "N = 42.0\n",
      "Start to train weights...\n"
     ]
    },
    {
     "name": "stderr",
     "output_type": "stream",
     "text": [
      "100%|██████████| 20/20 [00:03<00:00,  6.65it/s]\n",
      "100%|██████████| 20/20 [00:03<00:00,  6.43it/s]\n",
      "100%|██████████| 20/20 [00:04<00:00,  4.52it/s]\n",
      "100%|██████████| 20/20 [00:04<00:00,  4.85it/s]\n",
      "  5%|▌         | 1/20 [00:00<00:02,  6.95it/s]"
     ]
    },
    {
     "name": "stdout",
     "output_type": "stream",
     "text": [
      "N = 52.0\n",
      "Start to train weights...\n"
     ]
    },
    {
     "name": "stderr",
     "output_type": "stream",
     "text": [
      "100%|██████████| 20/20 [00:03<00:00,  6.23it/s]\n",
      "100%|██████████| 20/20 [00:03<00:00,  6.16it/s]\n",
      "100%|██████████| 20/20 [00:04<00:00,  4.60it/s]\n",
      "100%|██████████| 20/20 [00:04<00:00,  4.75it/s]\n",
      "  5%|▌         | 1/20 [00:00<00:02,  6.58it/s]"
     ]
    },
    {
     "name": "stdout",
     "output_type": "stream",
     "text": [
      "N = 62.0\n",
      "Start to train weights...\n"
     ]
    },
    {
     "name": "stderr",
     "output_type": "stream",
     "text": [
      "100%|██████████| 20/20 [00:03<00:00,  6.54it/s]\n",
      "100%|██████████| 20/20 [00:03<00:00,  6.63it/s]\n",
      "100%|██████████| 20/20 [00:04<00:00,  4.52it/s]\n",
      "100%|██████████| 20/20 [00:04<00:00,  4.55it/s]\n",
      "  5%|▌         | 1/20 [00:00<00:02,  6.71it/s]"
     ]
    },
    {
     "name": "stdout",
     "output_type": "stream",
     "text": [
      "N = 72.0\n",
      "Start to train weights...\n"
     ]
    },
    {
     "name": "stderr",
     "output_type": "stream",
     "text": [
      "100%|██████████| 20/20 [00:03<00:00,  6.46it/s]\n",
      "100%|██████████| 20/20 [00:03<00:00,  6.28it/s]\n",
      "100%|██████████| 20/20 [00:04<00:00,  4.52it/s]\n",
      "100%|██████████| 20/20 [00:04<00:00,  4.44it/s]\n",
      "  5%|▌         | 1/20 [00:00<00:03,  5.91it/s]"
     ]
    },
    {
     "name": "stdout",
     "output_type": "stream",
     "text": [
      "N = 82.0\n",
      "Start to train weights...\n"
     ]
    },
    {
     "name": "stderr",
     "output_type": "stream",
     "text": [
      "100%|██████████| 20/20 [00:03<00:00,  6.37it/s]\n",
      "100%|██████████| 20/20 [00:03<00:00,  6.26it/s]\n",
      "100%|██████████| 20/20 [00:04<00:00,  4.30it/s]\n",
      "100%|██████████| 20/20 [00:04<00:00,  4.54it/s]\n",
      "  5%|▌         | 1/20 [00:00<00:02,  6.79it/s]"
     ]
    },
    {
     "name": "stdout",
     "output_type": "stream",
     "text": [
      "N = 92.0\n",
      "Start to train weights...\n"
     ]
    },
    {
     "name": "stderr",
     "output_type": "stream",
     "text": [
      "100%|██████████| 20/20 [00:03<00:00,  6.04it/s]\n",
      "100%|██████████| 20/20 [00:03<00:00,  6.22it/s]\n",
      "100%|██████████| 20/20 [00:04<00:00,  4.43it/s]\n",
      "100%|██████████| 20/20 [00:04<00:00,  4.36it/s]\n",
      "  5%|▌         | 1/20 [00:00<00:03,  6.09it/s]"
     ]
    },
    {
     "name": "stdout",
     "output_type": "stream",
     "text": [
      "N = 102.0\n",
      "Start to train weights...\n"
     ]
    },
    {
     "name": "stderr",
     "output_type": "stream",
     "text": [
      "100%|██████████| 20/20 [00:03<00:00,  6.30it/s]\n",
      "100%|██████████| 20/20 [00:03<00:00,  6.19it/s]\n",
      "100%|██████████| 20/20 [00:04<00:00,  4.68it/s]\n",
      "100%|██████████| 20/20 [00:04<00:00,  4.60it/s]\n"
     ]
    },
    {
     "data": {
      "text/plain": [
       "Text(0.5, 1.0, 'Corrupted Pattern Recovery, N = 1000, P = 20')"
      ]
     },
     "execution_count": 82,
     "metadata": {},
     "output_type": "execute_result"
    },
    {
     "data": {
      "image/png": "[encoded data removed]",
      "text/plain": [
       "<Figure size 1080x432 with 2 Axes>"
      ]
     },
     "metadata": {
      "needs_background": "light"
     },
     "output_type": "display_data"
    }
   ],
   "source": [
    "# Generate Patterns\n",
    "num_neuron = 1000\n",
    "num_pattern = 20\n",
    "degrees = np.linspace(2,102, 11)\n",
    "patterns = generate_patterns(num_neuron, num_pattern)\n",
    "\n",
    "h_reconstruction1 = np.zeros(len(degrees))\n",
    "h_reconstruction2 = np.zeros(len(degrees))\n",
    "mh_reconstruction1 = np.zeros(len(degrees))\n",
    "mh_reconstruction2 = np.zeros(len(degrees))\n",
    "damn_reconstruction1 = np.zeros(len(degrees))\n",
    "damn_reconstruction2 = np.zeros(len(degrees))\n",
    "\n",
    "# Generate Corrupted Patterns\n",
    "flipped_patterns = np.array([flip_bit(p) for p in patterns])\n",
    "corrupted_patterns = np.array([corrupt_pattern(p, 0.2) for p in patterns])\n",
    "\n",
    "# Create Hopfield Network Model\n",
    "hopfield_model = HopfieldNetwork()\n",
    "hopfield_model.train_weights(patterns)\n",
    "h_reconstructed_patterns1 = np.array(hopfield_model.predict(flipped_patterns))\n",
    "h_reconstructed_patterns2 = np.array(hopfield_model.predict(corrupted_patterns))\n",
    "\n",
    "for degree_idx, degree in enumerate(degrees):\n",
    "    print(f'N = {degree}')\n",
    "    # Create Degree Dependent Hopfield Networks\n",
    "    modified_hopfield_model = ModifiedHopfieldNetwork()\n",
    "    modified_hopfield_model.train_weights(patterns, n=degree)\n",
    "    damn_model = Dense_Network()\n",
    "    damn_model.train_weights(patterns, n=degree)\n",
    "\n",
    "    # Try to Reconstruct Original Patterns\n",
    "    mh_reconstructed_patterns1 = np.array(modified_hopfield_model.predict(flipped_patterns))\n",
    "    mh_reconstructed_patterns2 = np.array(modified_hopfield_model.predict(corrupted_patterns))\n",
    "    damn_reconstructed_patterns1 = np.array(damn_model.predict(flipped_patterns))\n",
    "    damn_reconstructed_patterns2 = np.array(damn_model.predict(corrupted_patterns))\n",
    "\n",
    "    h_reconstruction1[degree_idx] = np.sum(np.array([np.abs(np.dot(patterns[i], h_reconstructed_patterns1[i])) for i in range(num_pattern)]) / num_neuron) / num_pattern\n",
    "    h_reconstruction2[degree_idx] = np.sum(np.array([np.abs(np.dot(patterns[i], h_reconstructed_patterns2[i])) for i in range(num_pattern)]) / num_neuron) / num_pattern\n",
    "    mh_reconstruction1[degree_idx] = np.sum(np.array([np.abs(np.dot(patterns[i], mh_reconstructed_patterns1[i])) for i in range(num_pattern)]) / num_neuron) / num_pattern\n",
    "    mh_reconstruction2[degree_idx] = np.sum(np.array([np.abs(np.dot(patterns[i], mh_reconstructed_patterns2[i])) for i in range(num_pattern)]) / num_neuron) / num_pattern\n",
    "    damn_reconstruction1[degree_idx] = np.sum(np.array([np.abs(np.dot(patterns[i], damn_reconstructed_patterns1[i])) for i in range(num_pattern)]) / num_neuron) / num_pattern\n",
    "    damn_reconstruction2[degree_idx] = np.sum(np.array([np.abs(np.dot(patterns[i], damn_reconstructed_patterns2[i])) for i in range(num_pattern)]) / num_neuron) / num_pattern    \n",
    "    \n",
    "fig, axarr = plt.subplots(1,2, figsize=(15,6))\n",
    "\n",
    "axarr[0].plot(degrees, h_reconstruction1, label = 'Hopfield')\n",
    "axarr[0].plot(degrees, mh_reconstruction1, label = 'Modified Hopfield')\n",
    "axarr[0].plot(degrees, damn_reconstruction1, label = 'DAMN')\n",
    "axarr[0].set_xlabel('Degree')\n",
    "axarr[0].set_ylabel('Recovery')\n",
    "axarr[0].legend()\n",
    "axarr[0].set_title(f'Flipped Bit Pattern Recovery, N = {num_neuron}, P = {num_pattern}')\n",
    "\n",
    "axarr[1].plot(degrees, h_reconstruction2, label = 'Hopfield')\n",
    "axarr[1].plot(degrees, mh_reconstruction2, label = 'Modified Hopfield')\n",
    "axarr[1].plot(degrees, damn_reconstruction2, label = 'DAMN')\n",
    "axarr[1].set_xlabel('Degree')\n",
    "axarr[1].set_ylabel('Recovery')\n",
    "axarr[1].legend()\n",
    "axarr[1].set_title(f'Corrupted Pattern Recovery, N = {num_neuron}, P = {num_pattern}')"
   ]
  },
  {
   "cell_type": "code",
   "execution_count": 83,
   "id": "58ad91b7",
   "metadata": {},
   "outputs": [
    {
     "data": {
      "text/plain": [
       "Text(0.5, 1.0, 'Corrupted Pattern Recovery, N = 1000, P = 20')"
      ]
     },
     "execution_count": 83,
     "metadata": {},
     "output_type": "execute_result"
    },
    {
     "data": {
      "image/png": "[encoded data removed]",
      "text/plain": [
       "<Figure size 1080x432 with 2 Axes>"
      ]
     },
     "metadata": {
      "needs_background": "light"
     },
     "output_type": "display_data"
    }
   ],
   "source": [
    "fig, axarr = plt.subplots(1,2, figsize=(15,6))\n",
    "\n",
    "axarr[0].plot(degrees, h_reconstruction1, label = 'Hopfield')\n",
    "axarr[0].plot(degrees, mh_reconstruction1, label = 'Modified Hopfield')\n",
    "axarr[0].plot(degrees, damn_reconstruction1, label = 'DAMN')\n",
    "axarr[0].set_xlabel('Degree')\n",
    "axarr[0].set_ylabel('Recovery')\n",
    "axarr[0].legend()\n",
    "axarr[0].set_title(f'Flipped Bit Pattern Recovery, N = {num_neuron}, P = {num_pattern}')\n",
    "\n",
    "axarr[1].plot(degrees, h_reconstruction2, label = 'Hopfield')\n",
    "axarr[1].plot(degrees, mh_reconstruction2, label = 'Modified Hopfield')\n",
    "axarr[1].plot(degrees, damn_reconstruction2, label = 'DAMN')\n",
    "axarr[1].set_xlabel('Degree')\n",
    "axarr[1].set_ylabel('Recovery')\n",
    "axarr[1].legend()\n",
    "axarr[1].set_title(f'Corrupted Pattern Recovery, N = {num_neuron}, P = {num_pattern}')"
   ]
  },
  {
   "cell_type": "code",
   "execution_count": null,
   "id": "bc274968",
   "metadata": {},
   "outputs": [],
   "source": []
  }
 ],
 "metadata": {
  "kernelspec": {
   "display_name": "Python 3",
   "language": "python",
   "name": "python3"
  },
  "language_info": {
   "codemirror_mode": {
    "name": "ipython",
    "version": 3
   },
   "file_extension": ".py",
   "mimetype": "text/x-python",
   "name": "python",
   "nbconvert_exporter": "python",
   "pygments_lexer": "ipython3",
   "version": "3.8.8"
  }
 },
 "nbformat": 4,
 "nbformat_minor": 5
}
